{
 "cells": [
  {
   "cell_type": "code",
   "execution_count": 31,
   "id": "cb71528b-1dba-44fe-8a48-1f495aecd046",
   "metadata": {},
   "outputs": [
    {
     "name": "stdin",
     "output_type": "stream",
     "text": [
      "Enter your name: Johan\n",
      "Enter your weight in kg: 73\n",
      "Enter your height in cm: 185\n"
     ]
    },
    {
     "name": "stdout",
     "output_type": "stream",
     "text": [
      "Johan, you are normal weight.\n"
     ]
    },
    {
     "data": {
      "text/plain": [
       "21.32943754565376"
      ]
     },
     "execution_count": 31,
     "metadata": {},
     "output_type": "execute_result"
    }
   ],
   "source": [
    "while True:\n",
    "    try:\n",
    "        Name = input (\"Enter your name:\")\n",
    "        Weight = float(input(\"Enter your weight in kg:\"))\n",
    "        Height = float(input (\"Enter your height in cm:\"))\n",
    "        \n",
    "        if Weight <=0 or Height <=0:\n",
    "            print(\"Error: Wieght and height must be positive numbers.\")\n",
    "            continue\n",
    "        break\n",
    "    \n",
    "    except ValueError:\n",
    "        print(\"Enter valid inputs.\")\n",
    "\n",
    "\n",
    "\n",
    "BMI = (Weight * 10000) / (Height * Height)\n",
    "\n",
    "if BMI >0:\n",
    "    if (BMI < 18.5):\n",
    "        print(Name + \", you are underweight.\")\n",
    "    elif (BMI <= 24.9):\n",
    "        print(Name + \", you are normal weight.\")\n",
    "    elif(BMI <= 29.9):\n",
    "        print(Name + \", you are overweight.\")\n",
    "    elif(BMI <= 34.9):\n",
    "        print(Name + \", you are obese.\")\n",
    "    elif(BMI <= 39.9):\n",
    "        print(Name + \", you are severely obese.\")\n",
    "    elif (BMI >= 40):\n",
    "        print(Name + \", you are morbidly obese\")\n",
    "    else:\n",
    "        print(\"Enter valid input\")\n",
    "BMI"
   ]
  },
  {
   "cell_type": "code",
   "execution_count": null,
   "id": "61fea30d-ea20-4265-b246-6ac2733590c6",
   "metadata": {},
   "outputs": [],
   "source": []
  },
  {
   "cell_type": "code",
   "execution_count": null,
   "id": "dae93bb3-902a-4645-80ab-fe858cd8aae9",
   "metadata": {},
   "outputs": [],
   "source": []
  },
  {
   "cell_type": "code",
   "execution_count": null,
   "id": "cc77ce6f-1f18-4158-9a33-1b8d964f8b42",
   "metadata": {},
   "outputs": [],
   "source": []
  },
  {
   "cell_type": "code",
   "execution_count": null,
   "id": "a4a22b14-93b3-43c1-b384-545a67bb3f2e",
   "metadata": {},
   "outputs": [],
   "source": []
  }
 ],
 "metadata": {
  "kernelspec": {
   "display_name": "Python [conda env:base] *",
   "language": "python",
   "name": "conda-base-py"
  },
  "language_info": {
   "codemirror_mode": {
    "name": "ipython",
    "version": 3
   },
   "file_extension": ".py",
   "mimetype": "text/x-python",
   "name": "python",
   "nbconvert_exporter": "python",
   "pygments_lexer": "ipython3",
   "version": "3.12.7"
  }
 },
 "nbformat": 4,
 "nbformat_minor": 5
}
